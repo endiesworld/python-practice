{
 "cells": [
  {
   "cell_type": "code",
   "execution_count": 57,
   "id": "5b9c4382-1abf-402e-b812-05fb03f1d350",
   "metadata": {},
   "outputs": [],
   "source": [
    "import pandas as pd\n",
    "import numpy as np"
   ]
  },
  {
   "cell_type": "code",
   "execution_count": 59,
   "id": "5738f257-6a7e-4ec6-8fcf-685d0b1f3fca",
   "metadata": {},
   "outputs": [
    {
     "name": "stdout",
     "output_type": "stream",
     "text": [
      "The shape of orders data is (200, 8)\n"
     ]
    },
    {
     "data": {
      "text/html": [
       "<div>\n",
       "<style scoped>\n",
       "    .dataframe tbody tr th:only-of-type {\n",
       "        vertical-align: middle;\n",
       "    }\n",
       "\n",
       "    .dataframe tbody tr th {\n",
       "        vertical-align: top;\n",
       "    }\n",
       "\n",
       "    .dataframe thead th {\n",
       "        text-align: right;\n",
       "    }\n",
       "</style>\n",
       "<table border=\"1\" class=\"dataframe\">\n",
       "  <thead>\n",
       "    <tr style=\"text-align: right;\">\n",
       "      <th></th>\n",
       "      <th>id</th>\n",
       "      <th>first_name</th>\n",
       "      <th>last_name</th>\n",
       "      <th>email</th>\n",
       "      <th>shoe_type</th>\n",
       "      <th>shoe_material</th>\n",
       "      <th>shoe_color</th>\n",
       "      <th>price</th>\n",
       "    </tr>\n",
       "  </thead>\n",
       "  <tbody>\n",
       "    <tr>\n",
       "      <th>0</th>\n",
       "      <td>97916</td>\n",
       "      <td>Douglas</td>\n",
       "      <td>Perez</td>\n",
       "      <td>DouglasPerez28@gmail.com</td>\n",
       "      <td>stilettos</td>\n",
       "      <td>fabric</td>\n",
       "      <td>brown</td>\n",
       "      <td>90</td>\n",
       "    </tr>\n",
       "    <tr>\n",
       "      <th>1</th>\n",
       "      <td>67691</td>\n",
       "      <td>Tiffany</td>\n",
       "      <td>O'neill</td>\n",
       "      <td>TiffanyO'neill51@gmail.com</td>\n",
       "      <td>wedges</td>\n",
       "      <td>leather</td>\n",
       "      <td>navy</td>\n",
       "      <td>94</td>\n",
       "    </tr>\n",
       "    <tr>\n",
       "      <th>2</th>\n",
       "      <td>72818</td>\n",
       "      <td>Susan</td>\n",
       "      <td>Rivas</td>\n",
       "      <td>Susan.Rivas@gmail.com</td>\n",
       "      <td>sandals</td>\n",
       "      <td>faux-leather</td>\n",
       "      <td>white</td>\n",
       "      <td>96</td>\n",
       "    </tr>\n",
       "    <tr>\n",
       "      <th>3</th>\n",
       "      <td>28080</td>\n",
       "      <td>Angela</td>\n",
       "      <td>Hopper</td>\n",
       "      <td>AngelaHopper62@outlook.com</td>\n",
       "      <td>stilettos</td>\n",
       "      <td>leather</td>\n",
       "      <td>red</td>\n",
       "      <td>96</td>\n",
       "    </tr>\n",
       "    <tr>\n",
       "      <th>4</th>\n",
       "      <td>89958</td>\n",
       "      <td>Thomas</td>\n",
       "      <td>Benjamin</td>\n",
       "      <td>TBenjamin1981@gmail.com</td>\n",
       "      <td>sandals</td>\n",
       "      <td>faux-leather</td>\n",
       "      <td>navy</td>\n",
       "      <td>97</td>\n",
       "    </tr>\n",
       "  </tbody>\n",
       "</table>\n",
       "</div>"
      ],
      "text/plain": [
       "      id first_name last_name                       email  shoe_type  \\\n",
       "0  97916    Douglas     Perez    DouglasPerez28@gmail.com  stilettos   \n",
       "1  67691    Tiffany   O'neill  TiffanyO'neill51@gmail.com     wedges   \n",
       "2  72818      Susan     Rivas       Susan.Rivas@gmail.com    sandals   \n",
       "3  28080     Angela    Hopper  AngelaHopper62@outlook.com  stilettos   \n",
       "4  89958     Thomas  Benjamin     TBenjamin1981@gmail.com    sandals   \n",
       "\n",
       "  shoe_material shoe_color  price  \n",
       "0        fabric      brown     90  \n",
       "1       leather       navy     94  \n",
       "2  faux-leather      white     96  \n",
       "3       leather        red     96  \n",
       "4  faux-leather       navy     97  "
      ]
     },
     "execution_count": 59,
     "metadata": {},
     "output_type": "execute_result"
    }
   ],
   "source": [
    "orders = pd.read_csv('data/orders.csv')\n",
    "print(\"The shape of orders data is\", orders.shape)\n",
    "orders.head()"
   ]
  },
  {
   "cell_type": "markdown",
   "id": "6d75f600-1b86-4993-96cb-ed7997ba1c16",
   "metadata": {},
   "source": [
    "## 2\n",
    "Our finance department wants to know the price of the most expensive pair of shoes purchased. Save your answer to the variable most_expensive"
   ]
  },
  {
   "cell_type": "code",
   "execution_count": 62,
   "id": "07f4b990-f494-4352-a024-06d8a66bf027",
   "metadata": {},
   "outputs": [
    {
     "data": {
      "text/plain": [
       "498"
      ]
     },
     "execution_count": 62,
     "metadata": {},
     "output_type": "execute_result"
    }
   ],
   "source": [
    "most_expensive = orders['price'].max()\n",
    "most_expensive"
   ]
  },
  {
   "cell_type": "markdown",
   "id": "a81ca405-3cf6-438c-b7de-2034fe687f41",
   "metadata": {},
   "source": [
    "## 3\n",
    "Our fashion department wants to know how many different colors of shoes we are selling. Save your answer to the variable num_colors"
   ]
  },
  {
   "cell_type": "code",
   "execution_count": 65,
   "id": "8205ecf7-a338-4639-9ed1-5aa0a01af1dd",
   "metadata": {},
   "outputs": [
    {
     "data": {
      "text/plain": [
       "5"
      ]
     },
     "execution_count": 65,
     "metadata": {},
     "output_type": "execute_result"
    }
   ],
   "source": [
    "num_colors = orders.shoe_color.nunique()\n",
    "num_colors"
   ]
  },
  {
   "cell_type": "markdown",
   "id": "94386815-9773-4128-8a3c-c1e28db3c4b3",
   "metadata": {},
   "source": [
    "# Calculating Aggregate Functions I"
   ]
  },
  {
   "cell_type": "markdown",
   "id": "a1141f40-996c-4bae-b98a-6552d19b2887",
   "metadata": {},
   "source": [
    "**In general, we use the following syntax to calculate aggregates:**\n",
    ">df.groupby('column1').column2.measurement()"
   ]
  },
  {
   "cell_type": "markdown",
   "id": "be3a4f64-437a-4237-ad2e-74808b4b31f3",
   "metadata": {},
   "source": [
    "Finance department wanted to know the most expensive shoe that we sold.\n",
    "\n",
    "Now, they want to know the most expensive shoe for each shoe_type (i.e., the most expensive boot, the most expensive ballet flat, etc.).\n",
    "\n",
    "Save your answer to the variable pricey_shoes"
   ]
  },
  {
   "cell_type": "code",
   "execution_count": 70,
   "id": "1343ee00-80ae-4d81-a98d-f99579b64951",
   "metadata": {},
   "outputs": [
    {
     "data": {
      "text/plain": [
       "shoe_type\n",
       "ballet flats    498\n",
       "sandals         498\n",
       "stilettos       468\n",
       "wedges          488\n",
       "Name: price, dtype: int64"
      ]
     },
     "execution_count": 70,
     "metadata": {},
     "output_type": "execute_result"
    }
   ],
   "source": [
    "pricey_shoes = orders.groupby('shoe_type').price.max()\n",
    "pricey_shoes"
   ]
  },
  {
   "cell_type": "code",
   "execution_count": 72,
   "id": "7863e1b7-e526-4441-8745-386a309c9b98",
   "metadata": {},
   "outputs": [
    {
     "name": "stdout",
     "output_type": "stream",
     "text": [
      "<class 'pandas.core.series.Series'>\n"
     ]
    }
   ],
   "source": [
    "print(type(pricey_shoes))\n"
   ]
  },
  {
   "cell_type": "markdown",
   "id": "b10a0893-65ac-4d51-928a-2ffdc120aa29",
   "metadata": {},
   "source": [
    "**After using groupby, we often need to clean our resulting data.**\n",
    "> df.groupby('column1').column2.measurement() .reset_index()\r\n"
   ]
  },
  {
   "cell_type": "code",
   "execution_count": 75,
   "id": "b1e0a0af-a17f-4d19-a6a6-e68406564028",
   "metadata": {},
   "outputs": [
    {
     "name": "stdout",
     "output_type": "stream",
     "text": [
      "<class 'pandas.core.frame.DataFrame'>\n"
     ]
    },
    {
     "data": {
      "text/html": [
       "<div>\n",
       "<style scoped>\n",
       "    .dataframe tbody tr th:only-of-type {\n",
       "        vertical-align: middle;\n",
       "    }\n",
       "\n",
       "    .dataframe tbody tr th {\n",
       "        vertical-align: top;\n",
       "    }\n",
       "\n",
       "    .dataframe thead th {\n",
       "        text-align: right;\n",
       "    }\n",
       "</style>\n",
       "<table border=\"1\" class=\"dataframe\">\n",
       "  <thead>\n",
       "    <tr style=\"text-align: right;\">\n",
       "      <th></th>\n",
       "      <th>shoe_type</th>\n",
       "      <th>price</th>\n",
       "    </tr>\n",
       "  </thead>\n",
       "  <tbody>\n",
       "    <tr>\n",
       "      <th>0</th>\n",
       "      <td>ballet flats</td>\n",
       "      <td>498</td>\n",
       "    </tr>\n",
       "    <tr>\n",
       "      <th>1</th>\n",
       "      <td>sandals</td>\n",
       "      <td>498</td>\n",
       "    </tr>\n",
       "    <tr>\n",
       "      <th>2</th>\n",
       "      <td>stilettos</td>\n",
       "      <td>468</td>\n",
       "    </tr>\n",
       "    <tr>\n",
       "      <th>3</th>\n",
       "      <td>wedges</td>\n",
       "      <td>488</td>\n",
       "    </tr>\n",
       "  </tbody>\n",
       "</table>\n",
       "</div>"
      ],
      "text/plain": [
       "      shoe_type  price\n",
       "0  ballet flats    498\n",
       "1       sandals    498\n",
       "2     stilettos    468\n",
       "3        wedges    488"
      ]
     },
     "execution_count": 75,
     "metadata": {},
     "output_type": "execute_result"
    }
   ],
   "source": [
    "pricey_shoes = orders.groupby('shoe_type').price.max().reset_index()\n",
    "print(type(pricey_shoes))\n",
    "pricey_shoes"
   ]
  },
  {
   "cell_type": "markdown",
   "id": "41970064-5219-47b3-835c-9b549d1f422f",
   "metadata": {},
   "source": [
    "Let’s calculate the 25th percentile for shoe price for each shoe_color to help Marketing decide if we have enough cheap shoes on sale. Save the data to the variable cheap_shoes"
   ]
  },
  {
   "cell_type": "code",
   "execution_count": 78,
   "id": "74eba5f1-70ae-409a-8008-35afaa8598a5",
   "metadata": {},
   "outputs": [
    {
     "data": {
      "text/html": [
       "<div>\n",
       "<style scoped>\n",
       "    .dataframe tbody tr th:only-of-type {\n",
       "        vertical-align: middle;\n",
       "    }\n",
       "\n",
       "    .dataframe tbody tr th {\n",
       "        vertical-align: top;\n",
       "    }\n",
       "\n",
       "    .dataframe thead th {\n",
       "        text-align: right;\n",
       "    }\n",
       "</style>\n",
       "<table border=\"1\" class=\"dataframe\">\n",
       "  <thead>\n",
       "    <tr style=\"text-align: right;\">\n",
       "      <th></th>\n",
       "      <th>shoe_color</th>\n",
       "      <th>price</th>\n",
       "    </tr>\n",
       "  </thead>\n",
       "  <tbody>\n",
       "    <tr>\n",
       "      <th>0</th>\n",
       "      <td>black</td>\n",
       "      <td>130.0</td>\n",
       "    </tr>\n",
       "    <tr>\n",
       "      <th>1</th>\n",
       "      <td>brown</td>\n",
       "      <td>248.0</td>\n",
       "    </tr>\n",
       "    <tr>\n",
       "      <th>2</th>\n",
       "      <td>navy</td>\n",
       "      <td>200.0</td>\n",
       "    </tr>\n",
       "    <tr>\n",
       "      <th>3</th>\n",
       "      <td>red</td>\n",
       "      <td>157.0</td>\n",
       "    </tr>\n",
       "    <tr>\n",
       "      <th>4</th>\n",
       "      <td>white</td>\n",
       "      <td>188.0</td>\n",
       "    </tr>\n",
       "  </tbody>\n",
       "</table>\n",
       "</div>"
      ],
      "text/plain": [
       "  shoe_color  price\n",
       "0      black  130.0\n",
       "1      brown  248.0\n",
       "2       navy  200.0\n",
       "3        red  157.0\n",
       "4      white  188.0"
      ]
     },
     "execution_count": 78,
     "metadata": {},
     "output_type": "execute_result"
    }
   ],
   "source": [
    "# np.percentile can calculate any percentile over an array of values\n",
    "cheap_shoes = orders.groupby('shoe_color').price.apply(lambda x: np.percentile(x, 25)).reset_index()\n",
    "cheap_shoes"
   ]
  },
  {
   "cell_type": "markdown",
   "id": "32869746-1c82-4975-9199-8039e6b30104",
   "metadata": {},
   "source": [
    "Purchasing team thinks that certain shoe_type/shoe_color combinations are particularly popular this year (for example, blue ballet flats are all the rage in Paris).\r\n",
    "\r\n",
    "Create a DataFrame with the total number of shoes of each shoe_type/shoe_color combination purchased. Save it to the variable shoe_counts.\r\n",
    "\r\n",
    "You should be able to do this using groupby and count().\r\n",
    "\r\n",
    "Note: When we’re using count(), it doesn’t really matter which column we perform the calculation on. You should use id in this example, but we would get the same answer if we used shoe_type or last_name"
   ]
  },
  {
   "cell_type": "code",
   "execution_count": 83,
   "id": "993f3b20-9cae-4049-88ae-2c7d030dba89",
   "metadata": {},
   "outputs": [
    {
     "data": {
      "text/html": [
       "<div>\n",
       "<style scoped>\n",
       "    .dataframe tbody tr th:only-of-type {\n",
       "        vertical-align: middle;\n",
       "    }\n",
       "\n",
       "    .dataframe tbody tr th {\n",
       "        vertical-align: top;\n",
       "    }\n",
       "\n",
       "    .dataframe thead th {\n",
       "        text-align: right;\n",
       "    }\n",
       "</style>\n",
       "<table border=\"1\" class=\"dataframe\">\n",
       "  <thead>\n",
       "    <tr style=\"text-align: right;\">\n",
       "      <th></th>\n",
       "      <th>shoe_type</th>\n",
       "      <th>shoe_color</th>\n",
       "      <th>id</th>\n",
       "    </tr>\n",
       "  </thead>\n",
       "  <tbody>\n",
       "    <tr>\n",
       "      <th>0</th>\n",
       "      <td>ballet flats</td>\n",
       "      <td>black</td>\n",
       "      <td>2</td>\n",
       "    </tr>\n",
       "    <tr>\n",
       "      <th>1</th>\n",
       "      <td>ballet flats</td>\n",
       "      <td>brown</td>\n",
       "      <td>11</td>\n",
       "    </tr>\n",
       "    <tr>\n",
       "      <th>2</th>\n",
       "      <td>ballet flats</td>\n",
       "      <td>navy</td>\n",
       "      <td>17</td>\n",
       "    </tr>\n",
       "    <tr>\n",
       "      <th>3</th>\n",
       "      <td>ballet flats</td>\n",
       "      <td>red</td>\n",
       "      <td>13</td>\n",
       "    </tr>\n",
       "    <tr>\n",
       "      <th>4</th>\n",
       "      <td>ballet flats</td>\n",
       "      <td>white</td>\n",
       "      <td>7</td>\n",
       "    </tr>\n",
       "    <tr>\n",
       "      <th>5</th>\n",
       "      <td>sandals</td>\n",
       "      <td>black</td>\n",
       "      <td>3</td>\n",
       "    </tr>\n",
       "    <tr>\n",
       "      <th>6</th>\n",
       "      <td>sandals</td>\n",
       "      <td>brown</td>\n",
       "      <td>10</td>\n",
       "    </tr>\n",
       "    <tr>\n",
       "      <th>7</th>\n",
       "      <td>sandals</td>\n",
       "      <td>navy</td>\n",
       "      <td>13</td>\n",
       "    </tr>\n",
       "    <tr>\n",
       "      <th>8</th>\n",
       "      <td>sandals</td>\n",
       "      <td>red</td>\n",
       "      <td>14</td>\n",
       "    </tr>\n",
       "    <tr>\n",
       "      <th>9</th>\n",
       "      <td>sandals</td>\n",
       "      <td>white</td>\n",
       "      <td>10</td>\n",
       "    </tr>\n",
       "    <tr>\n",
       "      <th>10</th>\n",
       "      <td>stilettos</td>\n",
       "      <td>black</td>\n",
       "      <td>8</td>\n",
       "    </tr>\n",
       "    <tr>\n",
       "      <th>11</th>\n",
       "      <td>stilettos</td>\n",
       "      <td>brown</td>\n",
       "      <td>14</td>\n",
       "    </tr>\n",
       "    <tr>\n",
       "      <th>12</th>\n",
       "      <td>stilettos</td>\n",
       "      <td>navy</td>\n",
       "      <td>7</td>\n",
       "    </tr>\n",
       "    <tr>\n",
       "      <th>13</th>\n",
       "      <td>stilettos</td>\n",
       "      <td>red</td>\n",
       "      <td>16</td>\n",
       "    </tr>\n",
       "    <tr>\n",
       "      <th>14</th>\n",
       "      <td>stilettos</td>\n",
       "      <td>white</td>\n",
       "      <td>5</td>\n",
       "    </tr>\n",
       "    <tr>\n",
       "      <th>15</th>\n",
       "      <td>wedges</td>\n",
       "      <td>brown</td>\n",
       "      <td>13</td>\n",
       "    </tr>\n",
       "    <tr>\n",
       "      <th>16</th>\n",
       "      <td>wedges</td>\n",
       "      <td>navy</td>\n",
       "      <td>16</td>\n",
       "    </tr>\n",
       "    <tr>\n",
       "      <th>17</th>\n",
       "      <td>wedges</td>\n",
       "      <td>red</td>\n",
       "      <td>4</td>\n",
       "    </tr>\n",
       "    <tr>\n",
       "      <th>18</th>\n",
       "      <td>wedges</td>\n",
       "      <td>white</td>\n",
       "      <td>17</td>\n",
       "    </tr>\n",
       "  </tbody>\n",
       "</table>\n",
       "</div>"
      ],
      "text/plain": [
       "       shoe_type shoe_color  id\n",
       "0   ballet flats      black   2\n",
       "1   ballet flats      brown  11\n",
       "2   ballet flats       navy  17\n",
       "3   ballet flats        red  13\n",
       "4   ballet flats      white   7\n",
       "5        sandals      black   3\n",
       "6        sandals      brown  10\n",
       "7        sandals       navy  13\n",
       "8        sandals        red  14\n",
       "9        sandals      white  10\n",
       "10     stilettos      black   8\n",
       "11     stilettos      brown  14\n",
       "12     stilettos       navy   7\n",
       "13     stilettos        red  16\n",
       "14     stilettos      white   5\n",
       "15        wedges      brown  13\n",
       "16        wedges       navy  16\n",
       "17        wedges        red   4\n",
       "18        wedges      white  17"
      ]
     },
     "execution_count": 83,
     "metadata": {},
     "output_type": "execute_result"
    }
   ],
   "source": [
    "shoe_counts = orders.groupby(['shoe_type', 'shoe_color']).id.count().reset_index()\n",
    "shoe_counts"
   ]
  },
  {
   "cell_type": "markdown",
   "id": "243a7851-d316-4566-86f2-0aea3e1bcab0",
   "metadata": {},
   "source": [
    "## Pivot"
   ]
  },
  {
   "cell_type": "markdown",
   "id": "44478c5b-1597-4389-b38c-5930680f84f2",
   "metadata": {},
   "source": [
    "This time, we’ll be looking at data about user visits to the website.\r\n",
    "\r\n",
    "The data is a DataFrame called user_visits. Use print and head() to examine the first few rows of the DataFrame."
   ]
  },
  {
   "cell_type": "code",
   "execution_count": 89,
   "id": "5063b596-1960-4b02-826b-b192f2f36fdf",
   "metadata": {},
   "outputs": [
    {
     "name": "stdout",
     "output_type": "stream",
     "text": [
      "(3000, 6)\n"
     ]
    },
    {
     "data": {
      "text/html": [
       "<div>\n",
       "<style scoped>\n",
       "    .dataframe tbody tr th:only-of-type {\n",
       "        vertical-align: middle;\n",
       "    }\n",
       "\n",
       "    .dataframe tbody tr th {\n",
       "        vertical-align: top;\n",
       "    }\n",
       "\n",
       "    .dataframe thead th {\n",
       "        text-align: right;\n",
       "    }\n",
       "</style>\n",
       "<table border=\"1\" class=\"dataframe\">\n",
       "  <thead>\n",
       "    <tr style=\"text-align: right;\">\n",
       "      <th></th>\n",
       "      <th>id</th>\n",
       "      <th>first_name</th>\n",
       "      <th>last_name</th>\n",
       "      <th>email</th>\n",
       "      <th>month</th>\n",
       "      <th>utm_source</th>\n",
       "    </tr>\n",
       "  </thead>\n",
       "  <tbody>\n",
       "    <tr>\n",
       "      <th>0</th>\n",
       "      <td>10043</td>\n",
       "      <td>Louis</td>\n",
       "      <td>Koch</td>\n",
       "      <td>LouisKoch43@gmail.com</td>\n",
       "      <td>3 - March</td>\n",
       "      <td>yahoo</td>\n",
       "    </tr>\n",
       "    <tr>\n",
       "      <th>1</th>\n",
       "      <td>10150</td>\n",
       "      <td>Bruce</td>\n",
       "      <td>Webb</td>\n",
       "      <td>BruceWebb44@outlook.com</td>\n",
       "      <td>3 - March</td>\n",
       "      <td>twitter</td>\n",
       "    </tr>\n",
       "    <tr>\n",
       "      <th>2</th>\n",
       "      <td>10155</td>\n",
       "      <td>Nicholas</td>\n",
       "      <td>Hoffman</td>\n",
       "      <td>Nicholas.Hoffman@gmail.com</td>\n",
       "      <td>2 - February</td>\n",
       "      <td>google</td>\n",
       "    </tr>\n",
       "    <tr>\n",
       "      <th>3</th>\n",
       "      <td>10178</td>\n",
       "      <td>William</td>\n",
       "      <td>Key</td>\n",
       "      <td>William.Key@outlook.com</td>\n",
       "      <td>3 - March</td>\n",
       "      <td>yahoo</td>\n",
       "    </tr>\n",
       "    <tr>\n",
       "      <th>4</th>\n",
       "      <td>10208</td>\n",
       "      <td>Karen</td>\n",
       "      <td>Bass</td>\n",
       "      <td>KB4971@gmail.com</td>\n",
       "      <td>2 - February</td>\n",
       "      <td>google</td>\n",
       "    </tr>\n",
       "  </tbody>\n",
       "</table>\n",
       "</div>"
      ],
      "text/plain": [
       "      id first_name last_name                       email         month  \\\n",
       "0  10043      Louis      Koch       LouisKoch43@gmail.com     3 - March   \n",
       "1  10150      Bruce      Webb     BruceWebb44@outlook.com     3 - March   \n",
       "2  10155   Nicholas   Hoffman  Nicholas.Hoffman@gmail.com  2 - February   \n",
       "3  10178    William       Key     William.Key@outlook.com     3 - March   \n",
       "4  10208      Karen      Bass            KB4971@gmail.com  2 - February   \n",
       "\n",
       "  utm_source  \n",
       "0      yahoo  \n",
       "1    twitter  \n",
       "2     google  \n",
       "3      yahoo  \n",
       "4     google  "
      ]
     },
     "execution_count": 89,
     "metadata": {},
     "output_type": "execute_result"
    }
   ],
   "source": [
    "user_visits = pd.read_csv('data/page_visits.csv')\n",
    "print(user_visits.shape)\n",
    "user_visits.head()"
   ]
  },
  {
   "cell_type": "markdown",
   "id": "03639f1d-ba10-4642-acc0-86c9c03f4b56",
   "metadata": {},
   "source": [
    "The column utm_source contains information about how users got to ShoeFly’s homepage. For instance, if utm_source = Facebook, then the user came to ShoeFly by clicking on an ad on Facebook.com.\n",
    "\n",
    "Use a groupby statement to calculate how many visits came from each of the different sources. Save your answer to the variable click_source.\n",
    "\n",
    "Remember to use reset_index()!"
   ]
  },
  {
   "cell_type": "code",
   "execution_count": 92,
   "id": "e8aeb6fb-b344-45f0-aec6-fede4e7267d6",
   "metadata": {},
   "outputs": [
    {
     "data": {
      "text/html": [
       "<div>\n",
       "<style scoped>\n",
       "    .dataframe tbody tr th:only-of-type {\n",
       "        vertical-align: middle;\n",
       "    }\n",
       "\n",
       "    .dataframe tbody tr th {\n",
       "        vertical-align: top;\n",
       "    }\n",
       "\n",
       "    .dataframe thead th {\n",
       "        text-align: right;\n",
       "    }\n",
       "</style>\n",
       "<table border=\"1\" class=\"dataframe\">\n",
       "  <thead>\n",
       "    <tr style=\"text-align: right;\">\n",
       "      <th></th>\n",
       "      <th>utm_source</th>\n",
       "      <th>id</th>\n",
       "    </tr>\n",
       "  </thead>\n",
       "  <tbody>\n",
       "    <tr>\n",
       "      <th>0</th>\n",
       "      <td>email</td>\n",
       "      <td>462</td>\n",
       "    </tr>\n",
       "    <tr>\n",
       "      <th>1</th>\n",
       "      <td>facebook</td>\n",
       "      <td>823</td>\n",
       "    </tr>\n",
       "    <tr>\n",
       "      <th>2</th>\n",
       "      <td>google</td>\n",
       "      <td>543</td>\n",
       "    </tr>\n",
       "    <tr>\n",
       "      <th>3</th>\n",
       "      <td>twitter</td>\n",
       "      <td>415</td>\n",
       "    </tr>\n",
       "    <tr>\n",
       "      <th>4</th>\n",
       "      <td>yahoo</td>\n",
       "      <td>757</td>\n",
       "    </tr>\n",
       "  </tbody>\n",
       "</table>\n",
       "</div>"
      ],
      "text/plain": [
       "  utm_source   id\n",
       "0      email  462\n",
       "1   facebook  823\n",
       "2     google  543\n",
       "3    twitter  415\n",
       "4      yahoo  757"
      ]
     },
     "execution_count": 92,
     "metadata": {},
     "output_type": "execute_result"
    }
   ],
   "source": [
    "click_source = user_visits.groupby('utm_source').id.count().reset_index()\n",
    "click_source"
   ]
  },
  {
   "cell_type": "markdown",
   "id": "7f559a11-f8e1-41dd-9ae8-022586706ebb",
   "metadata": {},
   "source": [
    "Our Marketing department thinks that the traffic to our site has been changing over the past few months. Use groupby to calculate the number of visits to our site from each utm_source for each month. Save your answer to the variable click_source_by_month."
   ]
  },
  {
   "cell_type": "code",
   "execution_count": 95,
   "id": "9560d649-041e-4aaf-8cb8-619b25dbf0b3",
   "metadata": {},
   "outputs": [
    {
     "data": {
      "text/html": [
       "<div>\n",
       "<style scoped>\n",
       "    .dataframe tbody tr th:only-of-type {\n",
       "        vertical-align: middle;\n",
       "    }\n",
       "\n",
       "    .dataframe tbody tr th {\n",
       "        vertical-align: top;\n",
       "    }\n",
       "\n",
       "    .dataframe thead th {\n",
       "        text-align: right;\n",
       "    }\n",
       "</style>\n",
       "<table border=\"1\" class=\"dataframe\">\n",
       "  <thead>\n",
       "    <tr style=\"text-align: right;\">\n",
       "      <th></th>\n",
       "      <th>utm_source</th>\n",
       "      <th>month</th>\n",
       "      <th>id</th>\n",
       "    </tr>\n",
       "  </thead>\n",
       "  <tbody>\n",
       "    <tr>\n",
       "      <th>0</th>\n",
       "      <td>email</td>\n",
       "      <td>1 - January</td>\n",
       "      <td>43</td>\n",
       "    </tr>\n",
       "    <tr>\n",
       "      <th>1</th>\n",
       "      <td>email</td>\n",
       "      <td>2 - February</td>\n",
       "      <td>147</td>\n",
       "    </tr>\n",
       "    <tr>\n",
       "      <th>2</th>\n",
       "      <td>email</td>\n",
       "      <td>3 - March</td>\n",
       "      <td>272</td>\n",
       "    </tr>\n",
       "    <tr>\n",
       "      <th>3</th>\n",
       "      <td>facebook</td>\n",
       "      <td>1 - January</td>\n",
       "      <td>404</td>\n",
       "    </tr>\n",
       "    <tr>\n",
       "      <th>4</th>\n",
       "      <td>facebook</td>\n",
       "      <td>2 - February</td>\n",
       "      <td>263</td>\n",
       "    </tr>\n",
       "    <tr>\n",
       "      <th>5</th>\n",
       "      <td>facebook</td>\n",
       "      <td>3 - March</td>\n",
       "      <td>156</td>\n",
       "    </tr>\n",
       "    <tr>\n",
       "      <th>6</th>\n",
       "      <td>google</td>\n",
       "      <td>1 - January</td>\n",
       "      <td>127</td>\n",
       "    </tr>\n",
       "    <tr>\n",
       "      <th>7</th>\n",
       "      <td>google</td>\n",
       "      <td>2 - February</td>\n",
       "      <td>196</td>\n",
       "    </tr>\n",
       "    <tr>\n",
       "      <th>8</th>\n",
       "      <td>google</td>\n",
       "      <td>3 - March</td>\n",
       "      <td>220</td>\n",
       "    </tr>\n",
       "    <tr>\n",
       "      <th>9</th>\n",
       "      <td>twitter</td>\n",
       "      <td>1 - January</td>\n",
       "      <td>164</td>\n",
       "    </tr>\n",
       "    <tr>\n",
       "      <th>10</th>\n",
       "      <td>twitter</td>\n",
       "      <td>2 - February</td>\n",
       "      <td>154</td>\n",
       "    </tr>\n",
       "    <tr>\n",
       "      <th>11</th>\n",
       "      <td>twitter</td>\n",
       "      <td>3 - March</td>\n",
       "      <td>97</td>\n",
       "    </tr>\n",
       "    <tr>\n",
       "      <th>12</th>\n",
       "      <td>yahoo</td>\n",
       "      <td>1 - January</td>\n",
       "      <td>262</td>\n",
       "    </tr>\n",
       "    <tr>\n",
       "      <th>13</th>\n",
       "      <td>yahoo</td>\n",
       "      <td>2 - February</td>\n",
       "      <td>240</td>\n",
       "    </tr>\n",
       "    <tr>\n",
       "      <th>14</th>\n",
       "      <td>yahoo</td>\n",
       "      <td>3 - March</td>\n",
       "      <td>255</td>\n",
       "    </tr>\n",
       "  </tbody>\n",
       "</table>\n",
       "</div>"
      ],
      "text/plain": [
       "   utm_source         month   id\n",
       "0       email   1 - January   43\n",
       "1       email  2 - February  147\n",
       "2       email     3 - March  272\n",
       "3    facebook   1 - January  404\n",
       "4    facebook  2 - February  263\n",
       "5    facebook     3 - March  156\n",
       "6      google   1 - January  127\n",
       "7      google  2 - February  196\n",
       "8      google     3 - March  220\n",
       "9     twitter   1 - January  164\n",
       "10    twitter  2 - February  154\n",
       "11    twitter     3 - March   97\n",
       "12      yahoo   1 - January  262\n",
       "13      yahoo  2 - February  240\n",
       "14      yahoo     3 - March  255"
      ]
     },
     "execution_count": 95,
     "metadata": {},
     "output_type": "execute_result"
    }
   ],
   "source": [
    "click_source_by_month = user_visits.groupby(['utm_source', 'month']).id.count().reset_index()\n",
    "click_source_by_month"
   ]
  },
  {
   "cell_type": "markdown",
   "id": "98fb5544-18a6-4513-864c-c20d5210b4d6",
   "metadata": {},
   "source": [
    "The head of Marketing is complaining that this table is hard to read. Use pivot to create a pivot table where the rows are utm_source and the columns are month. Save your results to the variable click_source_by_month_pivot.\n",
    "\n",
    "It should look something like this:"
   ]
  },
  {
   "cell_type": "code",
   "execution_count": 98,
   "id": "86aa7225-e800-4d88-b660-6b60fb2a34da",
   "metadata": {},
   "outputs": [
    {
     "data": {
      "text/html": [
       "<div>\n",
       "<style scoped>\n",
       "    .dataframe tbody tr th:only-of-type {\n",
       "        vertical-align: middle;\n",
       "    }\n",
       "\n",
       "    .dataframe tbody tr th {\n",
       "        vertical-align: top;\n",
       "    }\n",
       "\n",
       "    .dataframe thead th {\n",
       "        text-align: right;\n",
       "    }\n",
       "</style>\n",
       "<table border=\"1\" class=\"dataframe\">\n",
       "  <thead>\n",
       "    <tr style=\"text-align: right;\">\n",
       "      <th>month</th>\n",
       "      <th>utm_source</th>\n",
       "      <th>1 - January</th>\n",
       "      <th>2 - February</th>\n",
       "      <th>3 - March</th>\n",
       "    </tr>\n",
       "  </thead>\n",
       "  <tbody>\n",
       "    <tr>\n",
       "      <th>0</th>\n",
       "      <td>email</td>\n",
       "      <td>43</td>\n",
       "      <td>147</td>\n",
       "      <td>272</td>\n",
       "    </tr>\n",
       "    <tr>\n",
       "      <th>1</th>\n",
       "      <td>facebook</td>\n",
       "      <td>404</td>\n",
       "      <td>263</td>\n",
       "      <td>156</td>\n",
       "    </tr>\n",
       "    <tr>\n",
       "      <th>2</th>\n",
       "      <td>google</td>\n",
       "      <td>127</td>\n",
       "      <td>196</td>\n",
       "      <td>220</td>\n",
       "    </tr>\n",
       "    <tr>\n",
       "      <th>3</th>\n",
       "      <td>twitter</td>\n",
       "      <td>164</td>\n",
       "      <td>154</td>\n",
       "      <td>97</td>\n",
       "    </tr>\n",
       "    <tr>\n",
       "      <th>4</th>\n",
       "      <td>yahoo</td>\n",
       "      <td>262</td>\n",
       "      <td>240</td>\n",
       "      <td>255</td>\n",
       "    </tr>\n",
       "  </tbody>\n",
       "</table>\n",
       "</div>"
      ],
      "text/plain": [
       "month utm_source  1 - January  2 - February  3 - March\n",
       "0          email           43           147        272\n",
       "1       facebook          404           263        156\n",
       "2         google          127           196        220\n",
       "3        twitter          164           154         97\n",
       "4          yahoo          262           240        255"
      ]
     },
     "execution_count": 98,
     "metadata": {},
     "output_type": "execute_result"
    }
   ],
   "source": [
    "click_source_by_month_pivot = click_source_by_month.pivot(columns='month', index='utm_source', values='id').reset_index()\n",
    "click_source_by_month_pivot"
   ]
  },
  {
   "cell_type": "code",
   "execution_count": null,
   "id": "eaaedb44-f1ba-4f08-98de-9f8b2ccee3ed",
   "metadata": {},
   "outputs": [],
   "source": []
  }
 ],
 "metadata": {
  "kernelspec": {
   "display_name": "Python 3 (ipykernel)",
   "language": "python",
   "name": "python3"
  },
  "language_info": {
   "codemirror_mode": {
    "name": "ipython",
    "version": 3
   },
   "file_extension": ".py",
   "mimetype": "text/x-python",
   "name": "python",
   "nbconvert_exporter": "python",
   "pygments_lexer": "ipython3",
   "version": "3.12.4"
  }
 },
 "nbformat": 4,
 "nbformat_minor": 5
}
